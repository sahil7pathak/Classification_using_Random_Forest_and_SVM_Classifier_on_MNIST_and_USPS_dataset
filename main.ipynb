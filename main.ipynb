{
 "cells": [
  {
   "cell_type": "code",
   "execution_count": 152,
   "metadata": {},
   "outputs": [],
   "source": [
    "import pickle\n",
    "import gzip\n",
    "import pandas as pd\n",
    "import numpy as np\n",
    "from PIL import Image\n",
    "import os\n",
    "np.random.seed(27)"
   ]
  },
  {
   "cell_type": "code",
   "execution_count": 153,
   "metadata": {},
   "outputs": [],
   "source": [
    "filename = 'mnist.pkl.gz'\n",
    "f = gzip.open(filename, 'rb')\n",
    "training_data, validation_data, test_data = pickle.load(f, encoding='latin1')\n",
    "f.close()"
   ]
  },
  {
   "cell_type": "markdown",
   "metadata": {},
   "source": [
    "# Partitioning the Dataset"
   ]
  },
  {
   "cell_type": "code",
   "execution_count": 154,
   "metadata": {},
   "outputs": [],
   "source": [
    "#Partition Training Data\n",
    "train_X = training_data[:-1]\n",
    "train_t = training_data[-1:]\n",
    "\n",
    "tr_data = []\n",
    "tr_target = []\n",
    "\n",
    "for i in range(len(train_X[0])):\n",
    "    tr_data.append(train_X[0][i])\n",
    "\n",
    "for i in range(len(train_t[0])):\n",
    "    tr_target.append(train_t[0][i])\n",
    "\n",
    "tr_data = np.array(tr_data)"
   ]
  },
  {
   "cell_type": "code",
   "execution_count": 155,
   "metadata": {},
   "outputs": [],
   "source": [
    "#Partition Validation Data\n",
    "val_X = validation_data[:-1]\n",
    "val_t = validation_data[-1:]\n",
    "\n",
    "val_data = []\n",
    "val_target = []\n",
    "\n",
    "for i in range(len(val_X[0])):\n",
    "    val_data.append(val_X[0][i])\n",
    "\n",
    "for i in range(len(val_t[0])):\n",
    "    val_target.append(val_t[0][i])\n",
    "\n",
    "val_data = np.array(val_data)"
   ]
  },
  {
   "cell_type": "code",
   "execution_count": 156,
   "metadata": {},
   "outputs": [],
   "source": [
    "#Partition Testing Data\n",
    "test_X = test_data[:-1]\n",
    "test_t = test_data[-1:]\n",
    "\n",
    "test_data = []\n",
    "test_target = []\n",
    "\n",
    "for i in range(len(test_X[0])):\n",
    "    test_data.append(test_X[0][i])\n",
    "\n",
    "for i in range(len(test_t[0])):\n",
    "    test_target.append(test_t[0][i])\n",
    "\n",
    "test_data = np.array(test_data)"
   ]
  },
  {
   "cell_type": "code",
   "execution_count": 157,
   "metadata": {},
   "outputs": [],
   "source": [
    "training = np.append(tr_data, val_data, axis=0)\n",
    "target = np.append(tr_target, val_target, axis=0)"
   ]
  },
  {
   "cell_type": "code",
   "execution_count": 158,
   "metadata": {},
   "outputs": [],
   "source": [
    "USPSMat  = []\n",
    "USPSTar  = []\n",
    "curPath  = 'USPSdata/Numerals'\n",
    "savedImg = []\n",
    "\n",
    "for j in range(0,10):\n",
    "    curFolderPath = curPath + '/' + str(j)\n",
    "    imgs =  os.listdir(curFolderPath)\n",
    "    for img in imgs:\n",
    "        curImg = curFolderPath + '/' + img\n",
    "        if curImg[-3:] == 'png':\n",
    "            img = Image.open(curImg,'r')\n",
    "            img = img.resize((28, 28))\n",
    "            savedImg = img\n",
    "            imgdata = (255-np.array(img.getdata()))/255\n",
    "            USPSMat.append(imgdata)\n",
    "            USPSTar.append(j)"
   ]
  },
  {
   "cell_type": "markdown",
   "metadata": {},
   "source": [
    "# Softmax Logistic Regression"
   ]
  },
  {
   "cell_type": "code",
   "execution_count": 159,
   "metadata": {},
   "outputs": [],
   "source": [
    "def net_input(X, W):\n",
    "    return (X.dot(W))\n",
    "\n",
    "def softmax(z):\n",
    "    prob = np.zeros(z.shape)\n",
    "    for i in range(z.shape[0]):\n",
    "        sum = 0\n",
    "        for j in range(z.shape[1]):\n",
    "            sum += np.exp(z[i][j])\n",
    "        for j in range(z.shape[1]):\n",
    "            prob[i][j] = np.exp(z[i][j])/sum\n",
    "    return prob\n",
    "\n",
    "def to_classlabel(z):\n",
    "    return z.argmax(axis=1)\n",
    "\n",
    "def one_hot_enc(num_classes, target):\n",
    "    enc = np.zeros((len(target), 10))\n",
    "    for i in range(len(target)):\n",
    "        a = target[i]\n",
    "        enc[i][a] = 1\n",
    "    return enc\n",
    "\n",
    "def cross_entropy(smax3, y_target):\n",
    "    err = []\n",
    "    y_target = one_hot_enc(10, y_target)\n",
    "    for i in range(smax3.shape[0]):\n",
    "        sum = 0\n",
    "        for j in range(smax3.shape[1]):\n",
    "             sum += np.log(smax3[i][j], dtype=np.float64) * y_target[i][j]\n",
    "        err.append(-sum)\n",
    "       \n",
    "    return np.array(err)\n",
    "\n",
    "def cost(smax3, y_target):\n",
    "    a = cross_entropy(smax3, y_target)\n",
    "    return(np.mean(a))\n",
    "\n",
    "def gradient(X, smax3, y_enc):\n",
    "    a = np.dot(X.T, (smax3 - y_enc))\n",
    "    return a\n",
    "\n",
    "def acc(ans, target):\n",
    "    cc = 0\n",
    "    for i in range(ans.shape[0]):\n",
    "        if(ans[i] == target[i]):\n",
    "            cc += 1\n",
    "    return (cc/float(ans.shape[0]))"
   ]
  },
  {
   "cell_type": "code",
   "execution_count": null,
   "metadata": {},
   "outputs": [],
   "source": [
    "W = np.zeros((training.shape[1], 10))\n",
    "trainLosses = []\n",
    "accu = []\n",
    "lr = 0.1\n",
    "for e in range(800): # loop over epochs\n",
    "    net_in = net_input(training, W)\n",
    "    prob = softmax(net_in)\n",
    "    trainLoss = cost(prob, target)\n",
    "    trainLosses.append(trainLoss)\n",
    "    grad = (1/training.shape[0])*gradient(training, prob, one_hot_enc(10, target))\n",
    "    W = W - (lr* grad)\n",
    "    tr_pred = to_classlabel(prob)\n",
    "    accu.append(acc(tr_pred, target))"
   ]
  },
  {
   "cell_type": "code",
   "execution_count": 186,
   "metadata": {},
   "outputs": [
    {
     "data": {
      "image/png": "[encoded data removed]",
      "text/plain": [
       "<Figure size 432x288 with 1 Axes>"
      ]
     },
     "metadata": {},
     "output_type": "display_data"
    }
   ],
   "source": [
    "import matplotlib.pyplot as plt\n",
    "%matplotlib inline\n",
    "df = pd.DataFrame(accu)\n",
    "plt.plot(df)\n",
    "plt.title(\"Accuracy\")\n",
    "plt.xlabel(\"epochs\")\n",
    "plt.show()"
   ]
  },
  {
   "cell_type": "code",
   "execution_count": 185,
   "metadata": {},
   "outputs": [
    {
     "data": {
      "image/png": "[encoded data removed]",
      "text/plain": [
       "<Figure size 432x288 with 1 Axes>"
      ]
     },
     "metadata": {},
     "output_type": "display_data"
    }
   ],
   "source": [
    "%matplotlib inline\n",
    "df = pd.DataFrame(trainLosses)\n",
    "plt.plot(df)\n",
    "plt.title(\"Loss\")\n",
    "plt.xlabel(\"epochs\")\n",
    "plt.show()"
   ]
  },
  {
   "cell_type": "code",
   "execution_count": 184,
   "metadata": {},
   "outputs": [
    {
     "name": "stdout",
     "output_type": "stream",
     "text": [
      "Training Accuracy:  0.9000833333333333\n"
     ]
    }
   ],
   "source": [
    "'''Evaluating Training Accuracy'''\n",
    "print(\"Training Accuracy: \", acc(tr_pred, target))"
   ]
  },
  {
   "cell_type": "code",
   "execution_count": 187,
   "metadata": {},
   "outputs": [
    {
     "name": "stdout",
     "output_type": "stream",
     "text": [
      "Testing Accuracy:  0.9059\n"
     ]
    }
   ],
   "source": [
    "'''Evaluating Testing Accuracy'''\n",
    "test_pred_in = net_input(test_data, W)\n",
    "test_pred = softmax(test_pred_in)\n",
    "test_pred = to_classlabel(test_pred)\n",
    "print(\"Testing Accuracy: \", acc(test_pred, test_target))"
   ]
  },
  {
   "cell_type": "code",
   "execution_count": 190,
   "metadata": {},
   "outputs": [
    {
     "name": "stdout",
     "output_type": "stream",
     "text": [
      "Confusion Matrix for MNIST Training Dataset: \n",
      "\n",
      " [[ 957.    0.    3.    2.    0.    3.   10.    1.    4.    0.]\n",
      " [   0. 1103.    2.    4.    1.    2.    4.    1.   18.    0.]\n",
      " [  11.    6.  896.   16.   15.    0.   15.   20.   45.    8.]\n",
      " [   5.    0.   18.  904.    1.   32.    3.   15.   21.   11.]\n",
      " [   1.    4.    5.    1.  907.    0.   11.    1.    8.   44.]\n",
      " [  14.    5.    4.   41.   13.  740.   16.   10.   41.    8.]\n",
      " [  16.    3.    5.    2.   13.   16.  898.    1.    4.    0.]\n",
      " [   3.   19.   28.    4.   11.    0.    0.  923.    3.   37.]\n",
      " [   9.    9.    9.   27.    8.   27.   13.   15.  843.   14.]\n",
      " [  10.    7.    5.   10.   43.   13.    0.   25.    8.  888.]]\n"
     ]
    }
   ],
   "source": [
    "'''Confusion Matrix for MNIST Testing Dataset'''\n",
    "log_conf_mtx_mnist_test = np.zeros((10, 10))\n",
    "for i in range(test_pred.shape[0]):\n",
    "    a = test_target[i]\n",
    "    c = (test_pred[i])\n",
    "    log_conf_mtx_mnist_test[a][c] += 1.0 \n",
    "\n",
    "print(\"Confusion Matrix for MNIST Training Dataset: \\n\\n\", np.matrix(log_conf_mtx_mnist_test))"
   ]
  },
  {
   "cell_type": "code",
   "execution_count": 188,
   "metadata": {},
   "outputs": [
    {
     "name": "stdout",
     "output_type": "stream",
     "text": [
      "Testing Accuracy:  0.3546177308865443\n"
     ]
    }
   ],
   "source": [
    "'''Evaluating Testing Accuracy of USPS Dataset'''\n",
    "USPSMatt = np.array(USPSMat)\n",
    "usps_test_pred_in = net_input(USPSMatt, W)\n",
    "usps_test_pred = softmax(usps_test_pred_in)\n",
    "usps_test_pred = to_classlabel(usps_test_pred)\n",
    "print(\"Testing Accuracy: \", acc(usps_test_pred, USPSTar))"
   ]
  },
  {
   "cell_type": "code",
   "execution_count": 189,
   "metadata": {},
   "outputs": [
    {
     "name": "stdout",
     "output_type": "stream",
     "text": [
      "Confusion Matrix for USPS Training Dataset: \n",
      "\n",
      " [[ 596.    4.  346.   59.  248.  136.   93.   43.  163.  312.]\n",
      " [ 222.  307.  136.  347.  278.   58.   40.  321.  273.   18.]\n",
      " [ 206.   25. 1183.  146.   63.   84.   94.   87.   88.   23.]\n",
      " [ 101.    3.  119. 1296.   18.  244.   25.   62.   87.   45.]\n",
      " [  56.   77.   39.   62. 1017.  121.   42.  133.  295.  158.]\n",
      " [ 169.   20.  212.  176.   42. 1083.  116.   68.   84.   30.]\n",
      " [ 352.   13.  357.  107.  100.  256.  690.   23.   67.   35.]\n",
      " [ 195.  210.  311.  453.   74.   85.   32.  308.  282.   50.]\n",
      " [ 220.   30.  149.  209.  125.  592.  109.   47.  438.   81.]\n",
      " [  40.  178.  160.  477.  147.   89.   12.  384.  339.  174.]]\n"
     ]
    }
   ],
   "source": [
    "'''Confusion Matrix for USPS Testing Dataset'''\n",
    "log_conf_mtx_usps_test = np.zeros((10, 10))\n",
    "for i in range(usps_test_pred.shape[0]):\n",
    "    a = USPSTar[i]\n",
    "    c = (usps_test_pred[i])\n",
    "    log_conf_mtx_usps_test[a][c] += 1.0 \n",
    "\n",
    "print(\"Confusion Matrix for USPS Training Dataset: \\n\\n\", np.matrix(log_conf_mtx_usps_test))"
   ]
  },
  {
   "cell_type": "markdown",
   "metadata": {},
   "source": [
    "# Neural Network"
   ]
  },
  {
   "cell_type": "code",
   "execution_count": 80,
   "metadata": {},
   "outputs": [
    {
     "name": "stdout",
     "output_type": "stream",
     "text": [
      "_________________________________________________________________\n",
      "Layer (type)                 Output Shape              Param #   \n",
      "=================================================================\n",
      "dense_9 (Dense)              (None, 32)                25120     \n",
      "_________________________________________________________________\n",
      "dense_10 (Dense)             (None, 256)               8448      \n",
      "_________________________________________________________________\n",
      "dense_11 (Dense)             (None, 128)               32896     \n",
      "_________________________________________________________________\n",
      "dense_12 (Dense)             (None, 10)                1290      \n",
      "=================================================================\n",
      "Total params: 67,754\n",
      "Trainable params: 67,754\n",
      "Non-trainable params: 0\n",
      "_________________________________________________________________\n"
     ]
    }
   ],
   "source": [
    "import keras\n",
    "from keras.layers import Dense\n",
    "from keras.models import Sequential\n",
    "from keras import optimizers\n",
    "num_classes = 10\n",
    "second_dense_layer_nodes = 256\n",
    "third_dense_layer_nodes = 128\n",
    "def get_model():\n",
    "    image_size = 784 \n",
    "    model = Sequential()\n",
    "    model.add(Dense(units=32, activation='sigmoid', input_shape=(image_size,)))\n",
    "    model.add(Dense(second_dense_layer_nodes, activation='relu', input_dim=image_size))    \n",
    "    model.add(Dense(third_dense_layer_nodes, activation='sigmoid', input_dim=image_size))\n",
    "    model.add(Dense(units=num_classes, activation='softmax'))\n",
    "    model.summary()\n",
    "    sgd = optimizers.SGD(lr=0.1, decay=1e-6, momentum=0.9, nesterov=True)\n",
    "    model.compile(optimizer=sgd, loss='categorical_crossentropy',metrics=['accuracy'])\n",
    "    return model\n",
    "\n",
    "model = get_model()"
   ]
  },
  {
   "cell_type": "code",
   "execution_count": 81,
   "metadata": {},
   "outputs": [
    {
     "name": "stdout",
     "output_type": "stream",
     "text": [
      "Train on 50000 samples, validate on 10000 samples\n",
      "Epoch 1/500\n",
      "50000/50000 [==============================] - 2s 48us/step - loss: 1.0695 - acc: 0.6468 - val_loss: 0.3424 - val_acc: 0.9021\n",
      "Epoch 2/500\n",
      "50000/50000 [==============================] - 2s 37us/step - loss: 0.2917 - acc: 0.9150 - val_loss: 0.2235 - val_acc: 0.9341\n",
      "Epoch 3/500\n",
      "50000/50000 [==============================] - 2s 35us/step - loss: 0.2078 - acc: 0.9393 - val_loss: 0.1763 - val_acc: 0.9482\n",
      "Epoch 4/500\n",
      "50000/50000 [==============================] - 2s 39us/step - loss: 0.1639 - acc: 0.9512 - val_loss: 0.1435 - val_acc: 0.9573\n",
      "Epoch 5/500\n",
      "50000/50000 [==============================] - 2s 37us/step - loss: 0.1400 - acc: 0.9578 - val_loss: 0.1460 - val_acc: 0.9581\n",
      "Epoch 6/500\n",
      "50000/50000 [==============================] - 2s 35us/step - loss: 0.1229 - acc: 0.9630 - val_loss: 0.1361 - val_acc: 0.9598\n",
      "Epoch 7/500\n",
      "50000/50000 [==============================] - 2s 35us/step - loss: 0.1109 - acc: 0.9658 - val_loss: 0.1402 - val_acc: 0.9576\n",
      "Epoch 8/500\n",
      "50000/50000 [==============================] - 2s 39us/step - loss: 0.1014 - acc: 0.9690 - val_loss: 0.1223 - val_acc: 0.9612\n",
      "Epoch 9/500\n",
      "50000/50000 [==============================] - 2s 36us/step - loss: 0.0911 - acc: 0.9718 - val_loss: 0.1201 - val_acc: 0.9636\n",
      "Epoch 10/500\n",
      "50000/50000 [==============================] - 2s 36us/step - loss: 0.0848 - acc: 0.9744 - val_loss: 0.1174 - val_acc: 0.9638\n",
      "Epoch 11/500\n",
      "50000/50000 [==============================] - 2s 39us/step - loss: 0.0791 - acc: 0.9757 - val_loss: 0.1174 - val_acc: 0.9654\n",
      "Epoch 12/500\n",
      "50000/50000 [==============================] - 2s 35us/step - loss: 0.0736 - acc: 0.9773 - val_loss: 0.1160 - val_acc: 0.9671\n",
      "Epoch 13/500\n",
      "50000/50000 [==============================] - 2s 36us/step - loss: 0.0691 - acc: 0.9789 - val_loss: 0.1130 - val_acc: 0.9671\n",
      "Epoch 14/500\n",
      "50000/50000 [==============================] - 2s 38us/step - loss: 0.0643 - acc: 0.9800 - val_loss: 0.1265 - val_acc: 0.9630\n",
      "Epoch 15/500\n",
      "50000/50000 [==============================] - 2s 36us/step - loss: 0.0609 - acc: 0.9808 - val_loss: 0.1140 - val_acc: 0.9683\n",
      "Epoch 16/500\n",
      "50000/50000 [==============================] - 2s 38us/step - loss: 0.0564 - acc: 0.9825 - val_loss: 0.1203 - val_acc: 0.9655\n",
      "Epoch 17/500\n",
      "50000/50000 [==============================] - 2s 43us/step - loss: 0.0543 - acc: 0.9832 - val_loss: 0.1237 - val_acc: 0.9660\n",
      "Epoch 18/500\n",
      "50000/50000 [==============================] - 2s 38us/step - loss: 0.0509 - acc: 0.9843 - val_loss: 0.1170 - val_acc: 0.9680\n",
      "Epoch 19/500\n",
      "50000/50000 [==============================] - 2s 38us/step - loss: 0.0479 - acc: 0.9857 - val_loss: 0.1173 - val_acc: 0.9681\n",
      "Epoch 20/500\n",
      "50000/50000 [==============================] - 2s 37us/step - loss: 0.0456 - acc: 0.9859 - val_loss: 0.1384 - val_acc: 0.9636\n",
      "Epoch 21/500\n",
      "50000/50000 [==============================] - 2s 35us/step - loss: 0.0428 - acc: 0.9867 - val_loss: 0.1194 - val_acc: 0.9676\n",
      "Epoch 22/500\n",
      "50000/50000 [==============================] - 2s 35us/step - loss: 0.0394 - acc: 0.9880 - val_loss: 0.1269 - val_acc: 0.9656\n",
      "Epoch 23/500\n",
      "50000/50000 [==============================] - 2s 37us/step - loss: 0.0390 - acc: 0.9877 - val_loss: 0.1252 - val_acc: 0.9670\n",
      "Epoch 00023: early stopping\n"
     ]
    }
   ],
   "source": [
    "'''Training on MNIST'''\n",
    "from keras.callbacks import EarlyStopping\n",
    "y_train = keras.utils.to_categorical(target, num_classes)\n",
    "y_test = keras.utils.to_categorical(test_target, num_classes)\n",
    "early_patience = 10\n",
    "earlystopping_cb = EarlyStopping(monitor='val_loss', verbose=1, patience=early_patience, mode='min')\n",
    "history = model.fit(training, y_train, batch_size=256, epochs=500, validation_split=0.16666, callbacks = [earlystopping_cb])"
   ]
  },
  {
   "cell_type": "code",
   "execution_count": 82,
   "metadata": {},
   "outputs": [
    {
     "data": {
      "text/plain": [
       "array([<matplotlib.axes._subplots.AxesSubplot object at 0x000001D58103E588>,\n",
       "       <matplotlib.axes._subplots.AxesSubplot object at 0x000001D580F5C9E8>,\n",
       "       <matplotlib.axes._subplots.AxesSubplot object at 0x000001D5951124A8>,\n",
       "       <matplotlib.axes._subplots.AxesSubplot object at 0x000001D5955D7668>],\n",
       "      dtype=object)"
      ]
     },
     "execution_count": 82,
     "metadata": {},
     "output_type": "execute_result"
    },
    {
     "data": {
      "image/png": "[encoded data removed]",
      "text/plain": [
       "<Figure size 720x1080 with 4 Axes>"
      ]
     },
     "metadata": {},
     "output_type": "display_data"
    }
   ],
   "source": [
    "%matplotlib inline\n",
    "df = pd.DataFrame(history.history)\n",
    "df.plot(subplots=True, grid=False, figsize=(10,15))\n"
   ]
  },
  {
   "cell_type": "code",
   "execution_count": 94,
   "metadata": {},
   "outputs": [
    {
     "name": "stdout",
     "output_type": "stream",
     "text": [
      "Confusion Matrix for MNIST Training Dataset: \n",
      "\n",
      " [[5824.    0.   14.    5.    2.   23.   24.    4.   20.    7.]\n",
      " [   0. 6715.    3.    2.    1.    0.    2.    6.   13.    0.]\n",
      " [   2.   32. 5825.   22.    4.    3.    3.   55.    9.    3.]\n",
      " [   1.   10.   15. 5969.    2.   87.    0.   14.   20.   13.]\n",
      " [   2.   15.    2.    1. 5691.    4.   25.    3.   18.   81.]\n",
      " [   4.    1.    6.   11.    3. 5366.   12.    3.   11.    4.]\n",
      " [   8.    2.    3.    0.    5.   26. 5870.    0.    3.    1.]\n",
      " [   0.   22.    6.    8.    3.    8.    0. 6200.    1.   17.]\n",
      " [   3.   32.   13.   15.    3.   28.    7.    3. 5731.   16.]\n",
      " [   3.   12.    1.    9.   24.   27.    0.   19.   21. 5833.]]\n"
     ]
    }
   ],
   "source": [
    "'''Building Confusion Matrix for MNIST Training Dataset'''\n",
    "pred_mnist_tr = model.predict(training)\n",
    "conf_mtx_mnist_tr = np.zeros((10, 10))\n",
    "for i in range(pred_mnist_tr.shape[0]):\n",
    "    a = target[i]\n",
    "    c = np.argmax(pred_mnist_tr[i])\n",
    "    conf_mtx_mnist_tr[a][c] += 1.0 \n",
    "\n",
    "print(\"Confusion Matrix for MNIST Training Dataset: \\n\\n\", np.matrix(conf_mtx_mnist_tr))\n",
    "        \n"
   ]
  },
  {
   "cell_type": "code",
   "execution_count": 91,
   "metadata": {},
   "outputs": [
    {
     "name": "stdout",
     "output_type": "stream",
     "text": [
      "Testing Accuracy on MNIST:  0.9651\n"
     ]
    }
   ],
   "source": [
    "'''Testing on MNIST'''\n",
    "loss1, accuracy1 = model.evaluate(test_data, y_test, verbose=False)\n",
    "print(\"Testing Accuracy on MNIST: \", accuracy1)"
   ]
  },
  {
   "cell_type": "code",
   "execution_count": 93,
   "metadata": {},
   "outputs": [
    {
     "name": "stdout",
     "output_type": "stream",
     "text": [
      "Confusion Matrix for MNIST Testing Dataset: \n",
      "\n",
      " [[ 951.    0.    4.    0.    0.    8.   10.    3.    2.    2.]\n",
      " [   0. 1121.    2.    3.    0.    2.    3.    0.    3.    1.]\n",
      " [   3.    8.  995.    8.    1.    1.    4.    7.    4.    1.]\n",
      " [   1.    1.    5.  967.    0.   22.    0.    6.    6.    2.]\n",
      " [   1.    0.    1.    1.  937.    1.    8.    2.    3.   28.]\n",
      " [   1.    0.    0.    5.    2.  872.    4.    0.    5.    3.]\n",
      " [   4.    3.    1.    0.    7.    8.  932.    0.    3.    0.]\n",
      " [   1.   11.    9.    7.    0.    2.    0.  991.    1.    6.]\n",
      " [   2.    4.    5.    8.    6.   10.    5.    1.  929.    4.]\n",
      " [   2.   10.    0.    3.   10.   15.    0.    8.    5.  956.]]\n"
     ]
    }
   ],
   "source": [
    "'''Confusion Matrix for MNIST Testing Dataset:'''\n",
    "pred_mnist_test = model.predict(test_data)\n",
    "conf_mtx_mnist_test = np.zeros((10, 10))\n",
    "for i in range(pred_mnist_test.shape[0]):\n",
    "    a = test_target[i]\n",
    "    c = np.argmax(pred_mnist_test[i])\n",
    "    conf_mtx_mnist_test[a][c] += 1.0 \n",
    "    \n",
    "print(\"Confusion Matrix for MNIST Testing Dataset: \\n\\n\", np.matrix(conf_mtx_mnist_test))"
   ]
  },
  {
   "cell_type": "code",
   "execution_count": 95,
   "metadata": {},
   "outputs": [],
   "source": [
    "#Code Segment for majority voting (MNIST _ Hard Voting)\n",
    "pred_mnist_test_val = np.zeros((len(test_target), 1))\n",
    "for i in range(len(test_target)):\n",
    "    k = np.argmax(pred_mnist_test[i])\n",
    "    pred_mnist_test_val[i][0] = k"
   ]
  },
  {
   "cell_type": "code",
   "execution_count": 104,
   "metadata": {},
   "outputs": [
    {
     "name": "stdout",
     "output_type": "stream",
     "text": [
      "Testing Accuracy on USPS:  0.439821991092104\n"
     ]
    }
   ],
   "source": [
    "'''Testing on USPS Dataset'''\n",
    "USPSMat = np.array(USPSMat)\n",
    "y_test_usps = keras.utils.to_categorical(USPSTar, num_classes) \n",
    "loss2, accuracy2 = model.evaluate(USPSMat, y_test_usps, verbose=False)\n",
    "print(\"Testing Accuracy on USPS: \", accuracy2)"
   ]
  },
  {
   "cell_type": "code",
   "execution_count": 99,
   "metadata": {},
   "outputs": [
    {
     "name": "stdout",
     "output_type": "stream",
     "text": [
      "Confusion Matrix for USPS Testing Dataset: \n",
      "\n",
      " [[ 416.    6.   93.   99.  171.  297.   60.  119.  137.  602.]\n",
      " [  14.  555.  280.   61.  236.  188.   42.  442.  101.   81.]\n",
      " [  38.   66. 1307.  120.   33.  174.  110.   68.   75.    8.]\n",
      " [  18.   21.   54. 1353.   14.  409.    8.   49.   64.   10.]\n",
      " [   7.   59.   46.   17.  958.  238.   20.  304.  171.  180.]\n",
      " [  39.   34.  112.  197.   27. 1352.   70.   46.  100.   23.]\n",
      " [ 128.   18.  297.   49.   70.  256. 1050.    9.   70.   53.]\n",
      " [  17.  188.  283.  302.   30.  121.   12.  881.  128.   38.]\n",
      " [ 172.   31.  202.  221.   88.  396.  122.  111.  596.   61.]\n",
      " [   3.  147.  108.  241.  189.   84.    6.  603.  291.  328.]]\n"
     ]
    }
   ],
   "source": [
    "'''Confusion Matrix for USPS Testing Dataset:'''\n",
    "pred_usps_test = model.predict(USPSMat)\n",
    "conf_mtx_usps_test = np.zeros((10, 10))\n",
    "for i in range(pred_usps_test.shape[0]):\n",
    "    a = USPSTar[i]\n",
    "    c = np.argmax(pred_usps_test[i])\n",
    "    conf_mtx_usps_test[a][c] += 1.0 \n",
    "print(\"Confusion Matrix for USPS Testing Dataset: \\n\\n\", np.matrix(conf_mtx_usps_test))  "
   ]
  },
  {
   "cell_type": "code",
   "execution_count": 103,
   "metadata": {},
   "outputs": [],
   "source": [
    "#Code Segment for majority voting (USPS _ Hard Voting)\n",
    "pred_test_usps_val = np.zeros((len(USPSTar), 1))\n",
    "for i in range(len(USPSTar)):\n",
    "    k = np.argmax(pred_usps_test[i])\n",
    "    pred_test_usps_val[i][0] = k"
   ]
  },
  {
   "cell_type": "markdown",
   "metadata": {},
   "source": [
    "# SVM"
   ]
  },
  {
   "cell_type": "code",
   "execution_count": 57,
   "metadata": {},
   "outputs": [
    {
     "data": {
      "text/plain": [
       "SVC(C=20, cache_size=200, class_weight=None, coef0=0.0,\n",
       "  decision_function_shape='ovr', degree=3, gamma=0.05, kernel='rbf',\n",
       "  max_iter=-1, probability=False, random_state=None, shrinking=True,\n",
       "  tol=0.001, verbose=False)"
      ]
     },
     "execution_count": 57,
     "metadata": {},
     "output_type": "execute_result"
    }
   ],
   "source": [
    "#SVM\n",
    "import numpy as np\n",
    "from sklearn.svm import SVC\n",
    "from sklearn.ensemble import RandomForestClassifier\n",
    "classifier1 = SVC(kernel='rbf', C=20, gamma=0.05);\n",
    "classifier1.fit(training, target)\n"
   ]
  },
  {
   "cell_type": "code",
   "execution_count": 58,
   "metadata": {},
   "outputs": [
    {
     "name": "stdout",
     "output_type": "stream",
     "text": [
      "0.984\n"
     ]
    }
   ],
   "source": [
    "from sklearn.metrics import accuracy_score\n",
    "predicted = classifier1.predict(test_data)\n",
    "'''Testing on MNIST'''\n",
    "print(\"Testing Accuracy on MNIST\",accuracy_score(test_target, predicted))"
   ]
  },
  {
   "cell_type": "code",
   "execution_count": 105,
   "metadata": {},
   "outputs": [
    {
     "name": "stdout",
     "output_type": "stream",
     "text": [
      "Confusion Matrix for MNIST Testing Dataset: \n",
      "\n",
      " [[ 973.    0.    1.    0.    0.    2.    1.    1.    2.    0.]\n",
      " [   0. 1128.    3.    1.    0.    1.    0.    1.    1.    0.]\n",
      " [   4.    0. 1015.    0.    1.    0.    0.    6.    6.    0.]\n",
      " [   0.    0.    2.  995.    0.    3.    0.    6.    4.    0.]\n",
      " [   0.    0.    3.    0.  966.    0.    4.    0.    2.    7.]\n",
      " [   2.    0.    0.    5.    1.  878.    2.    1.    2.    1.]\n",
      " [   4.    2.    0.    0.    2.    3.  946.    0.    1.    0.]\n",
      " [   0.    3.    9.    1.    1.    0.    0. 1005.    2.    7.]\n",
      " [   1.    0.    1.    3.    1.    2.    0.    2.  961.    3.]\n",
      " [   3.    3.    2.    6.    9.    2.    0.    5.    6.  973.]]\n"
     ]
    }
   ],
   "source": [
    "'''Confusion Matrix for MNIST Testing Dataset'''\n",
    "conf_mtx_svm_mnist_test = np.zeros((10, 10))\n",
    "for i in range(predicted.shape[0]):\n",
    "    a = test_target[i]\n",
    "    c = (predicted[i])\n",
    "    conf_mtx_svm_mnist_test[a][c] += 1.0 \n",
    "np.set_printoptions(suppress=True)   \n",
    "print(\"Confusion Matrix for MNIST Testing Dataset: \\n\\n\",np.matrix((conf_mtx_svm_mnist_test)))"
   ]
  },
  {
   "cell_type": "code",
   "execution_count": 59,
   "metadata": {},
   "outputs": [
    {
     "name": "stdout",
     "output_type": "stream",
     "text": [
      "0.2738136906845342\n"
     ]
    }
   ],
   "source": [
    "'''Testing on USPS'''\n",
    "predicted_usps = classifier1.predict(USPSMat)\n",
    "print(\"Testing Accuracy on USPS: \",accuracy_score(USPSTar, predicted_usps))"
   ]
  },
  {
   "cell_type": "code",
   "execution_count": 106,
   "metadata": {},
   "outputs": [
    {
     "name": "stdout",
     "output_type": "stream",
     "text": [
      "Confusion Matrix for USPS Testing Dataset: \n",
      "\n",
      " [[ 238.    0. 1532.    4.   25.   43.    2.    0.   85.   71.]\n",
      " [  71.  263.  701.  155.  284.   93.   13.  332.   83.    5.]\n",
      " [   8.    0. 1937.    6.    3.   24.    1.    6.   14.    0.]\n",
      " [   4.    0. 1139.  737.    0.   67.    0.    0.   53.    0.]\n",
      " [   4.    0.  966.   15.  549.  128.    0.   58.  274.    6.]\n",
      " [  14.    0. 1198.    9.    1.  744.    0.    0.   34.    0.]\n",
      " [  73.    0. 1489.    2.   11.   91.  300.    0.   31.    3.]\n",
      " [  15.    6. 1416.  124.    6.  145.    0.  230.   57.    1.]\n",
      " [   5.    0. 1275.   13.    3.  286.    0.    0.  418.    0.]\n",
      " [   1.    0. 1469.   71.   28.   35.    0.   42.  294.   60.]]\n"
     ]
    }
   ],
   "source": [
    "'''Confusion Matrix for USPS Testing Dataset'''\n",
    "conf_mtx_svm_usps_test = np.zeros((10, 10))\n",
    "for i in range(predicted_usps.shape[0]):\n",
    "    a = USPSTar[i]\n",
    "    c = (predicted_usps[i])\n",
    "    conf_mtx_svm_usps_test[a][c] += 1.0 \n",
    "    \n",
    "print(\"Confusion Matrix for USPS Testing Dataset: \\n\\n\",np.matrix(conf_mtx_svm_usps_test))"
   ]
  },
  {
   "cell_type": "markdown",
   "metadata": {},
   "source": [
    "# Random Forest\n"
   ]
  },
  {
   "cell_type": "code",
   "execution_count": 123,
   "metadata": {},
   "outputs": [
    {
     "data": {
      "text/plain": [
       "RandomForestClassifier(bootstrap=True, class_weight=None, criterion='gini',\n",
       "            max_depth=None, max_features='auto', max_leaf_nodes=None,\n",
       "            min_impurity_decrease=0.0, min_impurity_split=None,\n",
       "            min_samples_leaf=1, min_samples_split=2,\n",
       "            min_weight_fraction_leaf=0.0, n_estimators=100, n_jobs=1,\n",
       "            oob_score=False, random_state=None, verbose=0,\n",
       "            warm_start=False)"
      ]
     },
     "execution_count": 123,
     "metadata": {},
     "output_type": "execute_result"
    }
   ],
   "source": [
    "#RandomForest\n",
    "classifier2 = RandomForestClassifier(n_estimators=100);\n",
    "classifier2.fit(tr_data, tr_target)"
   ]
  },
  {
   "cell_type": "code",
   "execution_count": 124,
   "metadata": {},
   "outputs": [
    {
     "name": "stdout",
     "output_type": "stream",
     "text": [
      "Testing Accuracy on MNIST:  0.9682\n"
     ]
    }
   ],
   "source": [
    "predicted2 = classifier2.predict(test_data)\n",
    "\n",
    "'''Testing on MNIST'''\n",
    "print(\"Testing Accuracy on MNIST: \",accuracy_score(test_target, predicted2))"
   ]
  },
  {
   "cell_type": "code",
   "execution_count": 125,
   "metadata": {},
   "outputs": [
    {
     "name": "stdout",
     "output_type": "stream",
     "text": [
      "Confusion Matrix for MNIST Testing Dataset: \n",
      "\n",
      " [[ 971.    0.    0.    0.    0.    2.    2.    1.    3.    1.]\n",
      " [   0. 1122.    3.    3.    0.    2.    2.    0.    2.    1.]\n",
      " [   7.    0.  999.    5.    3.    0.    4.    9.    5.    0.]\n",
      " [   1.    0.   11.  971.    0.    8.    0.    8.    7.    4.]\n",
      " [   1.    0.    0.    0.  954.    0.    5.    0.    3.   19.]\n",
      " [   2.    1.    1.   15.    2.  855.    7.    2.    5.    2.]\n",
      " [   8.    3.    0.    0.    4.    2.  937.    0.    4.    0.]\n",
      " [   0.    4.   17.    3.    1.    0.    0.  987.    4.   12.]\n",
      " [   4.    0.    5.   10.    7.    5.    4.    3.  927.    9.]\n",
      " [   7.    5.    2.    8.   12.    4.    1.    5.    6.  959.]]\n"
     ]
    }
   ],
   "source": [
    "'''Confusion Matrix for MNIST Testing Dataset'''\n",
    "conf_mtx_rf_mnist_test = np.zeros((10, 10))\n",
    "for i in range(predicted2.shape[0]):\n",
    "    a = test_target[i]\n",
    "    c = (predicted2[i])\n",
    "    conf_mtx_rf_mnist_test[a][c] += 1.0 \n",
    "    \n",
    "print(\"Confusion Matrix for MNIST Testing Dataset: \\n\\n\",np.matrix(conf_mtx_rf_mnist_test))"
   ]
  },
  {
   "cell_type": "code",
   "execution_count": 126,
   "metadata": {},
   "outputs": [
    {
     "name": "stdout",
     "output_type": "stream",
     "text": [
      "Testing Accuracy on USPS Dataset:  0.3929696484824241\n"
     ]
    }
   ],
   "source": [
    "'''Testing on USPS'''\n",
    "predicted2_usps = classifier2.predict(USPSMat)\n",
    "print(\"Testing Accuracy on USPS Dataset: \",accuracy_score(USPSTar, predicted2_usps))"
   ]
  },
  {
   "cell_type": "code",
   "execution_count": 127,
   "metadata": {},
   "outputs": [
    {
     "name": "stdout",
     "output_type": "stream",
     "text": [
      "Confusion Matrix for USPS Testing Dataset: \n",
      "\n",
      " [[ 676.   12.  272.   54.  421.  163.   43.  103.    7.  249.]\n",
      " [  39.  584.  107.  109.   64.  103.   32.  945.   16.    1.]\n",
      " [ 120.   33. 1245.   71.   52.  182.   18.  269.    6.    3.]\n",
      " [  38.    7.  103. 1270.   50.  350.    2.  166.    7.    7.]\n",
      " [  18.  189.   62.   25. 1053.  196.   13.  379.   39.   26.]\n",
      " [ 163.   31.  148.  124.   24. 1353.   34.  110.    7.    6.]\n",
      " [ 349.   45.  246.   38.   93.  321.  758.  135.    7.    8.]\n",
      " [  54.  341.  374.  239.   28.  249.   34.  670.    2.    9.]\n",
      " [  74.   49.  165.  210.  101. 1048.   68.  105.  156.   24.]\n",
      " [  24.  270.  240.  312.  243.  149.   10.  569.   89.   94.]]\n"
     ]
    }
   ],
   "source": [
    "'''Confusion Matrix for USPS Testing Dataset'''\n",
    "conf_mtx_rf_usps_test = np.zeros((10, 10))\n",
    "for i in range(predicted2_usps.shape[0]):\n",
    "    a = USPSTar[i]\n",
    "    c = (predicted2_usps[i])\n",
    "    conf_mtx_rf_usps_test[a][c] += 1.0 \n",
    "    \n",
    "print(\"Confusion Matrix for USPS Testing Dataset: \\n\\n\",np.matrix(conf_mtx_rf_usps_test))"
   ]
  },
  {
   "cell_type": "markdown",
   "metadata": {},
   "source": [
    "# Ensemble Techniques"
   ]
  },
  {
   "cell_type": "code",
   "execution_count": 137,
   "metadata": {},
   "outputs": [],
   "source": [
    "'''Simple Majority Voting'''\n",
    "from scipy.stats import mode\n",
    "\n",
    "#Evaluating on MNIST Dataset\n",
    "final_pred_mnist = []\n",
    "for i in range(0,len(pred_mnist_test_val)):\n",
    "    final_pred_mnist = np.append(final_pred_mnist, mode([pred_mnist_test_val[i], predicted[i], predicted2[i]])[0])"
   ]
  },
  {
   "cell_type": "code",
   "execution_count": 138,
   "metadata": {},
   "outputs": [
    {
     "name": "stdout",
     "output_type": "stream",
     "text": [
      "Accuracy by performing Ensembling of NN, SVM & Random Forest:  98.07\n"
     ]
    }
   ],
   "source": [
    "def accuracy(final_pred, test_target):\n",
    "    counter = 0\n",
    "    for i in range(len(test_target)):\n",
    "        if(final_pred[i] == test_target[i]):\n",
    "            counter += 1\n",
    "    return (counter*100)/float(len(test_target))\n",
    "\n",
    "acc = accuracy(final_pred_mnist, test_target)\n",
    "print(\"Accuracy by performing Ensembling (MNIST) of NN, SVM & Random Forest: \",acc)"
   ]
  },
  {
   "cell_type": "code",
   "execution_count": 151,
   "metadata": {},
   "outputs": [
    {
     "name": "stdout",
     "output_type": "stream",
     "text": [
      "Confusion Matrix for Ensembled (MNIST) Testing Dataset: \n",
      "\n",
      " [[ 973.    0.    1.    0.    0.    1.    1.    1.    3.    0.]\n",
      " [   0. 1126.    2.    2.    0.    2.    1.    0.    2.    0.]\n",
      " [   6.    0. 1013.    1.    1.    0.    0.    7.    4.    0.]\n",
      " [   0.    0.    4.  992.    0.    5.    0.    6.    3.    0.]\n",
      " [   2.    0.    0.    0.  961.    0.    5.    0.    2.   12.]\n",
      " [   2.    0.    0.    5.    2.  877.    2.    1.    2.    1.]\n",
      " [   4.    3.    0.    0.    2.    3.  945.    0.    1.    0.]\n",
      " [   0.    9.   11.    2.    0.    0.    0.  998.    2.    6.]\n",
      " [   3.    0.    2.    5.    5.    2.    0.    2.  952.    3.]\n",
      " [   4.    7.    2.    6.    9.    3.    0.    5.    3.  970.]]\n"
     ]
    }
   ],
   "source": [
    "'''Confusion Matrix for Ensembled Classfier (MNIST)'''\n",
    "conf_mtx_en_mnist_test = np.zeros((10, 10))\n",
    "for i in range(final_pred_mnist.shape[0]):\n",
    "    a = test_target[i]\n",
    "    c = int(final_pred_mnist[i])\n",
    "    conf_mtx_en_mnist_test[a][c] += 1.0 \n",
    "    \n",
    "print(\"Confusion Matrix for Ensembled (MNIST) Testing Dataset: \\n\\n\",np.matrix(conf_mtx_en_mnist_test))"
   ]
  },
  {
   "cell_type": "code",
   "execution_count": 148,
   "metadata": {},
   "outputs": [],
   "source": [
    "final_pred_usps = []\n",
    "for i in range(0,len(pred_test_usps_val)):\n",
    "    final_pred_usps = np.append(final_pred_usps, mode([pred_test_usps_val[i], predicted_usps[i], predicted2_usps[i]])[0])"
   ]
  },
  {
   "cell_type": "code",
   "execution_count": 150,
   "metadata": {},
   "outputs": [
    {
     "name": "stdout",
     "output_type": "stream",
     "text": [
      "Accuracy by performing Ensembling (USPS) of NN, SVM & Random Forest:  39.391969598479925\n"
     ]
    }
   ],
   "source": [
    "acc2 = accuracy(final_pred_usps, USPSTar)\n",
    "print(\"Accuracy by performing Ensembling (USPS) of NN, SVM & Random Forest: \",acc2)"
   ]
  },
  {
   "cell_type": "code",
   "execution_count": 149,
   "metadata": {},
   "outputs": [
    {
     "name": "stdout",
     "output_type": "stream",
     "text": [
      "Confusion Matrix for Ensembled (USPS) Testing Dataset: \n",
      "\n",
      " [[ 713.   14.  747.   21.  146.  103.   11.   21.    9.  215.]\n",
      " [  71.  581.  411.  122.  119.  109.   16.  528.   39.    4.]\n",
      " [  79.   45. 1705.   31.   14.   78.    5.   35.    7.    0.]\n",
      " [  43.   21.  519. 1189.    3.  188.    1.   16.   19.    1.]\n",
      " [  18.  167.  384.   13.  938.  178.    3.  192.   92.   15.]\n",
      " [ 136.   41.  531.   57.    6. 1188.   10.   15.   15.    1.]\n",
      " [ 357.   30.  814.    5.   32.  123.  617.    5.   13.    4.]\n",
      " [  59.  316.  766.  173.   11.  138.    3.  524.    9.    1.]\n",
      " [ 160.   51.  805.  106.   29.  453.   22.   41.  330.    3.]\n",
      " [  25.  280.  792.  131.  128.   59.    1.  337.  154.   93.]]\n"
     ]
    }
   ],
   "source": [
    "'''Confusion Matrix for Ensembled Classfier (USPS)'''\n",
    "conf_mtx_en_usps_test = np.zeros((10, 10))\n",
    "for i in range(final_pred_usps.shape[0]):\n",
    "    a = USPSTar[i]\n",
    "    c = int(final_pred_usps[i])\n",
    "    conf_mtx_en_usps_test[a][c] += 1.0 \n",
    "    \n",
    "print(\"Confusion Matrix for Ensembled (USPS) Testing Dataset: \\n\\n\",np.matrix(conf_mtx_en_usps_test))"
   ]
  },
  {
   "cell_type": "code",
   "execution_count": 191,
   "metadata": {},
   "outputs": [],
   "source": [
    "'''Ensemble of Logistic Regression, NN, SVM and Random Forest'''\n",
    "final_pred_mnist2 = []\n",
    "for i in range(0,len(pred_mnist_test_val)):\n",
    "    final_pred_mnist2 = np.append(final_pred_mnist2, mode([test_pred[i],pred_mnist_test_val[i], predicted[i], predicted2[i]])[0])"
   ]
  },
  {
   "cell_type": "code",
   "execution_count": 192,
   "metadata": {},
   "outputs": [
    {
     "name": "stdout",
     "output_type": "stream",
     "text": [
      "Accuracy by performing Ensembling (MNIST) of Logistic Regression, NN, SVM & Random Forest:  97.4\n"
     ]
    }
   ],
   "source": [
    "acc3 = accuracy(final_pred_mnist2, test_target)\n",
    "print(\"Accuracy by performing Ensembling (MNIST) of Logistic Regression, NN, SVM & Random Forest: \",acc3)"
   ]
  },
  {
   "cell_type": "code",
   "execution_count": 193,
   "metadata": {},
   "outputs": [
    {
     "name": "stdout",
     "output_type": "stream",
     "text": [
      "Confusion Matrix for Ensembled (MNIST) Testing Dataset: \n",
      "\n",
      " [[ 972.    0.    1.    0.    0.    1.    2.    1.    3.    0.]\n",
      " [   0. 1126.    2.    2.    0.    2.    1.    0.    2.    0.]\n",
      " [   6.    2. 1010.    2.    1.    0.    0.    7.    4.    0.]\n",
      " [   1.    0.   10.  984.    0.    5.    0.    6.    4.    0.]\n",
      " [   1.    0.    2.    0.  963.    0.    4.    0.    2.   10.]\n",
      " [   2.    1.    0.    9.    2.  871.    3.    1.    2.    1.]\n",
      " [   5.    3.    0.    0.    4.    4.  942.    0.    0.    0.]\n",
      " [   1.    9.   18.    1.    1.    0.    0.  991.    1.    6.]\n",
      " [   4.    2.    4.    8.    8.    8.    5.    3.  929.    3.]\n",
      " [   9.    6.    1.    9.   13.    6.    0.    9.    4.  952.]]\n"
     ]
    }
   ],
   "source": [
    "'''Confusion Matrix for Ensembled Classfier (MNIST)'''\n",
    "conf_mtx_en_mnist_test1 = np.zeros((10, 10))\n",
    "for i in range(final_pred_mnist2.shape[0]):\n",
    "    a = test_target[i]\n",
    "    c = int(final_pred_mnist2[i])\n",
    "    conf_mtx_en_mnist_test1[a][c] += 1.0 \n",
    "    \n",
    "print(\"Confusion Matrix for Ensembled (MNIST) Testing Dataset: \\n\\n\",np.matrix(conf_mtx_en_mnist_test1))"
   ]
  },
  {
   "cell_type": "code",
   "execution_count": 194,
   "metadata": {},
   "outputs": [],
   "source": [
    "final_pred_usps2 = []\n",
    "for i in range(0,len(pred_test_usps_val)):\n",
    "    final_pred_usps2 = np.append(final_pred_usps2, mode([usps_test_pred[i], pred_test_usps_val[i], predicted_usps[i], predicted2_usps[i]])[0])"
   ]
  },
  {
   "cell_type": "code",
   "execution_count": 195,
   "metadata": {},
   "outputs": [
    {
     "name": "stdout",
     "output_type": "stream",
     "text": [
      "Accuracy by performing Ensembling (USPS) of Logistic Regression, NN, SVM & Random Forest:  40.42702135106755\n"
     ]
    }
   ],
   "source": [
    "acc4 = accuracy(final_pred_usps2, USPSTar)\n",
    "print(\"Accuracy by performing Ensembling (USPS) of Logistic Regression, NN, SVM & Random Forest: \",acc4)"
   ]
  },
  {
   "cell_type": "code",
   "execution_count": 196,
   "metadata": {},
   "outputs": [
    {
     "name": "stdout",
     "output_type": "stream",
     "text": [
      "Confusion Matrix for Ensembled (USPS) Testing Dataset: \n",
      "\n",
      " [[ 666.    8.  569.   34.  218.  127.   36.   27.   40.  275.]\n",
      " [ 131.  533.  310.  154.  204.  106.   21.  481.   54.    6.]\n",
      " [ 119.   31. 1589.   53.   27.   87.   19.   60.   14.    0.]\n",
      " [  71.   13.  272. 1340.   10.  222.    2.   37.   27.    6.]\n",
      " [  31.  125.  169.   19. 1046.  190.   13.  190.  167.   50.]\n",
      " [ 123.   26.  359.  119.   15. 1254.   32.   42.   26.    4.]\n",
      " [ 347.   13.  650.   18.   55.  191.  663.   18.   25.   20.]\n",
      " [ 110.  269.  636.  244.   23.  137.    8.  492.   67.   14.]\n",
      " [ 169.   40.  424.  164.   59.  649.   50.   53.  371.   21.]\n",
      " [  28.  219.  441.  310.  138.   82.    3.  420.  228.  131.]]\n"
     ]
    }
   ],
   "source": [
    "'''Confusion Matrix for Ensembled Classfier (USPS)'''\n",
    "conf_mtx_en_usps_test1 = np.zeros((10, 10))\n",
    "for i in range(final_pred_usps2.shape[0]):\n",
    "    a = USPSTar[i]\n",
    "    c = int(final_pred_usps2[i])\n",
    "    conf_mtx_en_usps_test1[a][c] += 1.0 \n",
    "    \n",
    "print(\"Confusion Matrix for Ensembled (USPS) Testing Dataset: \\n\\n\",np.matrix(conf_mtx_en_usps_test1))"
   ]
  },
  {
   "cell_type": "code",
   "execution_count": null,
   "metadata": {},
   "outputs": [],
   "source": []
  }
 ],
 "metadata": {
  "kernelspec": {
   "display_name": "Python 3",
   "language": "python",
   "name": "python3"
  },
  "language_info": {
   "codemirror_mode": {
    "name": "ipython",
    "version": 3
   },
   "file_extension": ".py",
   "mimetype": "text/x-python",
   "name": "python",
   "nbconvert_exporter": "python",
   "pygments_lexer": "ipython3",
   "version": "3.6.5"
  }
 },
 "nbformat": 4,
 "nbformat_minor": 2
}
